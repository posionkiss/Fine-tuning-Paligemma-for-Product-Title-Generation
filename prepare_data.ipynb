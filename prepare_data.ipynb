{
 "cells": [
  {
   "cell_type": "code",
   "execution_count": 3,
   "id": "413ec900",
   "metadata": {
    "ExecuteTime": {
     "end_time": "2024-12-14T08:40:09.684024Z",
     "start_time": "2024-12-14T08:36:27.224018Z"
    }
   },
   "outputs": [
    {
     "name": "stdout",
     "output_type": "stream",
     "text": [
      "Loading json files to instructions and labels...\n",
      "4444/4444\n",
      "Loading (and resizing) images...\n",
      "4444/4444\n",
      "Loading other metadata...\n",
      "Viewing the set into batch_size=1\n",
      "Loading json files to instructions and labels...\n",
      "4444/4444\n",
      "Loading (and resizing) images...\n",
      "4444/4444\n",
      "Loading other metadata...\n",
      "Viewing the set into batch_size=1\n",
      "Loading json files to instructions and labels...\n",
      "35553/35553\n",
      "Loading (and resizing) images...\n",
      "35553/35553\n",
      "Loading other metadata...\n",
      "Viewing the set into batch_size=4\n"
     ]
    }
   ],
   "source": [
    "import numpy as np\n",
    "import cv2\n",
    "import pickle\n",
    "import json\n",
    "import re\n",
    "import random\n",
    "import torch\n",
    "from transformers import AutoTokenizer\n",
    "\n",
    "from prepare_data import *\n",
    "\n",
    "# images_roots = 'data/fashion-dataset/images/'\n",
    "# images_name = os.listdir(images_roots)\n",
    "# total_num = len(images_name)\n",
    "#\n",
    "# json_roots = 'data/fashion-dataset/styles/'\n",
    "# json_name = os.listdir(json_roots)\n",
    "# images_paths = []\n",
    "# json_paths = []\n",
    "# min_id = 1163\n",
    "# max_id = 60000\n",
    "# print('One-to-one corresponding check for the whole dataset...')\n",
    "# for id_ in np.arange(min_id, max_id + 1):\n",
    "#     print(f'{id_}/{max_id}',end='\\r')\n",
    "#     id_ = str(id_)\n",
    "#     if id_ + '.jpg' in images_name and id_ + '.json' in json_name:\n",
    "#         images_paths.append(images_roots + id_ + '.jpg')\n",
    "#         json_paths.append(json_roots + id_ + '.json')\n",
    "\n",
    "input_size = (224, 224)\n",
    "input_channel = 3\n",
    "root_path = 'data/fashion-dataset/'\n",
    "model_path = 'paligemma'\n",
    "with open('data/fashion-dataset/images_paths.pkl', 'rb') as file:\n",
    "    images_paths = pickle.load(file)\n",
    "with open('data/fashion-dataset/json_paths.pkl', 'rb') as file:\n",
    "    json_paths = pickle.load(file)\n",
    "\n",
    "total_num = len(images_paths)\n",
    "validation_size = testing_size = int(total_num / 10)\n",
    "training_size = total_num - testing_size * 2\n",
    "\n",
    "index_ = list(range(total_num))  # split training set, validation set and testing set\n",
    "np.random.shuffle(index_)\n",
    "training_ind = index_[:training_size]\n",
    "validation_ind = index_[training_size:training_size + validation_size]\n",
    "testing_ind = index_[training_size + validation_size:]\n",
    "\n",
    "bs = 4\n",
    "validation_set = ImageInstructionOutputDataset(images_paths, json_paths, input_size, root_path, 1, resized=True,\n",
    "                                               ind=validation_ind)\n",
    "testing_set = ImageInstructionOutputDataset(images_paths, json_paths, input_size, root_path, 1, resized=True,\n",
    "                                            ind=testing_ind)\n",
    "training_set = ImageInstructionOutputDataset(images_paths, json_paths, input_size, root_path, bs, resized=True,\n",
    "                                             ind=training_ind)\n",
    "\n",
    "\n"
   ]
  },
  {
   "cell_type": "code",
   "execution_count": 4,
   "id": "74bb964e",
   "metadata": {
    "ExecuteTime": {
     "end_time": "2024-12-14T08:40:30.992439Z",
     "start_time": "2024-12-14T08:40:23.425953Z"
    }
   },
   "outputs": [],
   "source": [
    "import pickle\n",
    "with open('data/fashion-dataset/training_set.pkl', 'wb') as f:\n",
    "    pickle.dump(training_set, f)\n",
    "\n",
    "with open('data/fashion-dataset/validation_set.pkl', 'wb') as f:\n",
    "    pickle.dump(validation_set, f)\n",
    "\n",
    "with open('data/fashion-dataset/testing_set.pkl', 'wb') as f:\n",
    "    pickle.dump(testing_set, f)"
   ]
  },
  {
   "cell_type": "code",
   "execution_count": 18,
   "id": "aefe6834",
   "metadata": {},
   "outputs": [],
   "source": [
    "# import pickle\n",
    "# import numpy as np\n",
    "\n",
    "# with open('data/fashion-dataset/images_paths.pkl', 'rb') as file:\n",
    "#     images_paths = pickle.load(file)\n",
    "# with open('data/fashion-dataset/json_paths.pkl', 'rb') as file:\n",
    "#     json_paths = pickle.load(file)\n",
    "# inds = np.arange(total_num)\n",
    "# np.random.shuffle(inds)\n",
    "# images_paths = list(np.array(images_paths)[inds])\n",
    "# json_paths = list(np.array(json_paths)[inds])\n",
    "# with open('data/fashion-dataset/images_paths.pkl', 'wb') as file:\n",
    "#     pickle.dump(images_paths, file)\n",
    "# with open('data/fashion-dataset/json_paths.pkl', 'wb') as file:\n",
    "#     pickle.dump(json_paths, file)"
   ]
  }
 ],
 "metadata": {
  "kernelspec": {
   "display_name": "Python 3 (ipykernel)",
   "language": "python",
   "name": "python3"
  },
  "language_info": {
   "codemirror_mode": {
    "name": "ipython",
    "version": 3
   },
   "file_extension": ".py",
   "mimetype": "text/x-python",
   "name": "python",
   "nbconvert_exporter": "python",
   "pygments_lexer": "ipython3",
   "version": "3.8.10"
  }
 },
 "nbformat": 4,
 "nbformat_minor": 5
}
