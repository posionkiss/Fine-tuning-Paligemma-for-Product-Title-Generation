{
 "cells": [
  {
   "cell_type": "code",
   "id": "initial_id",
   "metadata": {
    "collapsed": true,
    "ExecuteTime": {
     "end_time": "2024-12-04T08:26:11.097534Z",
     "start_time": "2024-12-04T08:26:02.150544Z"
    }
   },
   "source": [
    "import torch\n",
    "import torch.nn as nn\n",
    "\n",
    "from finetuning import outputs, loss_fn\n",
    "from utils import *"
   ],
   "outputs": [
    {
     "name": "stderr",
     "output_type": "stream",
     "text": [
      "D:\\Anaconda\\envs\\He\\lib\\site-packages\\tqdm\\auto.py:21: TqdmWarning: IProgress not found. Please update jupyter and ipywidgets. See https://ipywidgets.readthedocs.io/en/stable/user_install.html\n",
      "  from .autonotebook import tqdm as notebook_tqdm\n"
     ]
    }
   ],
   "execution_count": 1
  },
  {
   "metadata": {
    "ExecuteTime": {
     "end_time": "2024-12-04T08:27:41.113131Z",
     "start_time": "2024-12-04T08:27:41.094147Z"
    }
   },
   "cell_type": "code",
   "source": [
    "class MyNet(nn.Module):\n",
    "    def __init__(self):\n",
    "        super(MyNet, self).__init__()\n",
    "        self.l1 = nn.Linear(10, 20)\n",
    "        self.l2 = nn.Linear(20, 30)\n",
    "        self.l3 = nn.Linear(30, 10)\n",
    "        self.relu = nn.ReLU()\n",
    "    def forward(self, x):\n",
    "        output = self.relu(self.l3(self.l2(self.l1(x))))\n",
    "        return output"
   ],
   "id": "b5225c6946859692",
   "outputs": [],
   "execution_count": 2
  },
  {
   "metadata": {
    "ExecuteTime": {
     "end_time": "2024-12-04T08:33:15.316983Z",
     "start_time": "2024-12-04T08:33:15.297983Z"
    }
   },
   "cell_type": "code",
   "source": [
    "model = MyNet().to('cpu')\n",
    "loss_fn = nn.MSELoss()\n",
    "optim = torch.optim.SGD(model.parameters(), lr=0.01)\n",
    "model = apply_lora(model, 'cpu')\n",
    "x = torch.zeros(1,10)\n",
    "label = torch.tensor([[0,0,0,0,1,0,0,0,0,0.0]])\n",
    "for i in range(10):\n",
    "    loss = loss_fn(model(x), label)\n",
    "    print(loss.item())\n",
    "    optim.zero_grad()\n",
    "    loss.backward()\n",
    "    optim.step()"
   ],
   "id": "ceedb3d283e06e7f",
   "outputs": [
    {
     "name": "stdout",
     "output_type": "stream",
     "text": [
      "Applying LoRA\n",
      "0.09035962074995041\n",
      "0.08987446129322052\n",
      "0.08939188718795776\n",
      "0.08891190588474274\n",
      "0.08843451738357544\n",
      "0.0879596695303917\n",
      "0.08748739212751389\n",
      "0.08701765537261963\n",
      "0.08655042946338654\n",
      "0.08608570694923401\n"
     ]
    }
   ],
   "execution_count": 19
  },
  {
   "metadata": {},
   "cell_type": "code",
   "outputs": [],
   "execution_count": null,
   "source": "",
   "id": "15439e875cc5e7a"
  }
 ],
 "metadata": {
  "kernelspec": {
   "display_name": "Python 3",
   "language": "python",
   "name": "python3"
  },
  "language_info": {
   "codemirror_mode": {
    "name": "ipython",
    "version": 2
   },
   "file_extension": ".py",
   "mimetype": "text/x-python",
   "name": "python",
   "nbconvert_exporter": "python",
   "pygments_lexer": "ipython2",
   "version": "2.7.6"
  }
 },
 "nbformat": 4,
 "nbformat_minor": 5
}
